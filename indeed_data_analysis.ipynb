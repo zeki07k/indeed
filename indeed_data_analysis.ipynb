{
  "nbformat": 4,
  "nbformat_minor": 0,
  "metadata": {
    "colab": {
      "name": "indeed.ipynb",
      "provenance": []
    },
    "kernelspec": {
      "name": "python3",
      "display_name": "Python 3"
    },
    "language_info": {
      "name": "python"
    }
  },
  "cells": [
    {
      "cell_type": "code",
      "execution_count": null,
      "metadata": {
        "id": "cwBP1JIduUgC"
      },
      "outputs": [],
      "source": [
        ""
      ]
    },
    {
      "cell_type": "code",
      "source": [
        "# from google.colab import drive\n",
        "# drive.mount('/content/drive')"
      ],
      "metadata": {
        "id": "H0KljuGvxkv6"
      },
      "execution_count": null,
      "outputs": []
    },
    {
      "cell_type": "code",
      "source": [
        "import pandas as pd\n",
        "import re"
      ],
      "metadata": {
        "id": "lb58E5FfwHye"
      },
      "execution_count": null,
      "outputs": []
    },
    {
      "cell_type": "code",
      "source": [
        "df_aus = pd.read_csv('/content/drive/MyDrive/indeed/aus.csv')\n",
        "df_aus = df_aus.head(200)\n",
        "df_aus"
      ],
      "metadata": {
        "id": "hj2wuZbGwMd2"
      },
      "execution_count": null,
      "outputs": []
    },
    {
      "cell_type": "code",
      "source": [
        "df_la = pd.read_csv('/content/drive/MyDrive/indeed/la.csv')\n",
        "df_la = df_la.head(200)\n",
        "df_la"
      ],
      "metadata": {
        "id": "wiZhNDniwZGv"
      },
      "execution_count": null,
      "outputs": []
    },
    {
      "cell_type": "code",
      "source": [
        "df_ny = pd.read_csv('/content/drive/MyDrive/indeed/ny.csv')\n",
        "df_ny = df_ny.head(200)\n",
        "df_ny"
      ],
      "metadata": {
        "id": "D88wq3Vrwph2"
      },
      "execution_count": null,
      "outputs": []
    },
    {
      "cell_type": "code",
      "source": [
        "pdList = [df_aus, df_la, df_ny]  # List of your dataframes\n",
        "df = pd.concat(pdList, ignore_index=True)\n",
        "df"
      ],
      "metadata": {
        "id": "naRzvCkmwxUu"
      },
      "execution_count": null,
      "outputs": []
    },
    {
      "cell_type": "code",
      "source": [
        "df.info()"
      ],
      "metadata": {
        "id": "3UqiITrT0Rd5"
      },
      "execution_count": null,
      "outputs": []
    },
    {
      "cell_type": "code",
      "source": [
        "df.company.fillna('No Available Comp. name', inplace=True)"
      ],
      "metadata": {
        "id": "J7SLhEulyAn-"
      },
      "execution_count": null,
      "outputs": []
    },
    {
      "cell_type": "code",
      "source": [
        "df.posting_date.fillna(\"If you require alternative methods of application or screening, you must approach the employer directly to request this as Indeed is not responsible for the employer's application process.\",inplace=True)  "
      ],
      "metadata": {
        "id": "Ky1eRpB-zTag"
      },
      "execution_count": null,
      "outputs": []
    },
    {
      "cell_type": "code",
      "source": [
        "df.posting_date.value_counts(dropna=False)"
      ],
      "metadata": {
        "id": "5v8Am48zz9T_"
      },
      "execution_count": null,
      "outputs": []
    },
    {
      "cell_type": "code",
      "source": [
        "df.job_type.value_counts(dropna=False)"
      ],
      "metadata": {
        "id": "qdShUyeyzq5x"
      },
      "execution_count": null,
      "outputs": []
    },
    {
      "cell_type": "code",
      "source": [
        "df.job_type.fillna('Unknown Job type', inplace=True)"
      ],
      "metadata": {
        "id": "X90RkXD8ymL-"
      },
      "execution_count": null,
      "outputs": []
    },
    {
      "cell_type": "code",
      "source": [
        "del df['job_location']"
      ],
      "metadata": {
        "id": "j3BJWki6zBGP"
      },
      "execution_count": null,
      "outputs": []
    },
    {
      "cell_type": "code",
      "source": [
        "df.salary.value_counts(dropna=False)"
      ],
      "metadata": {
        "id": "z4zt8wHY0nU4"
      },
      "execution_count": null,
      "outputs": []
    },
    {
      "cell_type": "code",
      "source": [
        "df.salary.fillna('No salary info', inplace=True)"
      ],
      "metadata": {
        "id": "xPsTr83W0tKo"
      },
      "execution_count": null,
      "outputs": []
    },
    {
      "cell_type": "code",
      "source": [
        "df.state"
      ],
      "metadata": {
        "id": "VNZoRJj50_pX"
      },
      "execution_count": null,
      "outputs": []
    },
    {
      "cell_type": "code",
      "source": [
        "value = df.state.loc[3]\n",
        "print(value, \":\", type(value))"
      ],
      "metadata": {
        "id": "XOhOAGEU2m4j"
      },
      "execution_count": null,
      "outputs": []
    },
    {
      "cell_type": "code",
      "source": [
        "def letter(x):\n",
        "  if isinstance(x, str):\n",
        "    x = re.sub('[A-Z,]+', '', x)\n",
        "  return x "
      ],
      "metadata": {
        "id": "5mbcZLWv4gPx"
      },
      "execution_count": null,
      "outputs": []
    },
    {
      "cell_type": "code",
      "source": [
        "df.state = df.state.apply(letter)\n",
        "df.state"
      ],
      "metadata": {
        "id": "_O_4KKmE14LA"
      },
      "execution_count": null,
      "outputs": []
    },
    {
      "cell_type": "code",
      "source": [
        "df.state.fillna('No state info', inplace=True)"
      ],
      "metadata": {
        "id": "9cJpXpOT2LQf"
      },
      "execution_count": null,
      "outputs": []
    },
    {
      "cell_type": "code",
      "source": [
        "df.zip_code.value_counts(dropna=False)"
      ],
      "metadata": {
        "id": "Mts2uRLn5Kww"
      },
      "execution_count": null,
      "outputs": []
    },
    {
      "cell_type": "code",
      "source": [
        "df.zip_code.fillna('No zip code info', inplace=True)"
      ],
      "metadata": {
        "id": "A8lY2wPG6L76"
      },
      "execution_count": null,
      "outputs": []
    },
    {
      "cell_type": "code",
      "source": [
        "del df['url']"
      ],
      "metadata": {
        "id": "4hxGweiB6Jxg"
      },
      "execution_count": null,
      "outputs": []
    },
    {
      "cell_type": "code",
      "source": [
        "df.info()"
      ],
      "metadata": {
        "id": "h9w-rCoV7XRB"
      },
      "execution_count": null,
      "outputs": []
    },
    {
      "cell_type": "code",
      "source": [
        "df.to_csv('scraped_data.csv')"
      ],
      "metadata": {
        "id": "yy42NcbSDPjd"
      },
      "execution_count": null,
      "outputs": []
    },
    {
      "cell_type": "code",
      "source": [
        "df = df[['jk', 'job_title','job_description']]"
      ],
      "metadata": {
        "id": "HVAT-_uhCgH4"
      },
      "execution_count": null,
      "outputs": []
    },
    {
      "cell_type": "code",
      "source": [
        "df.to_csv('clean_scraped_data.csv')"
      ],
      "metadata": {
        "id": "mMY5qqU57bL4"
      },
      "execution_count": null,
      "outputs": []
    },
    {
      "cell_type": "code",
      "source": [
        "skills = pd.read_csv('/content/drive/MyDrive/indeed/skills.csv')\n",
        "skills"
      ],
      "metadata": {
        "id": "UOn9b4hM7o6L"
      },
      "execution_count": null,
      "outputs": []
    },
    {
      "cell_type": "code",
      "source": [
        "skills.sample(50)"
      ],
      "metadata": {
        "id": "PvxDwMiWJ1iS"
      },
      "execution_count": null,
      "outputs": []
    },
    {
      "cell_type": "code",
      "source": [
        "skill_list = skills.skill.values\n",
        "skill_list"
      ],
      "metadata": {
        "id": "-m4jUCQDDfyy"
      },
      "execution_count": null,
      "outputs": []
    },
    {
      "cell_type": "code",
      "source": [
        ""
      ],
      "metadata": {
        "id": "-2xcLtT8Id6m"
      },
      "execution_count": null,
      "outputs": []
    },
    {
      "cell_type": "code",
      "source": [
        "df"
      ],
      "metadata": {
        "id": "6mZCVSb_E3_T"
      },
      "execution_count": null,
      "outputs": []
    },
    {
      "cell_type": "code",
      "source": [
        ""
      ],
      "metadata": {
        "id": "0ObC4XS3F_m7"
      },
      "execution_count": null,
      "outputs": []
    },
    {
      "cell_type": "code",
      "source": [
        "df.job_description"
      ],
      "metadata": {
        "id": "HgPZ0B_iFI-L"
      },
      "execution_count": null,
      "outputs": []
    },
    {
      "cell_type": "code",
      "source": [
        "text = df.job_description.loc[597]\n",
        "text"
      ],
      "metadata": {
        "id": "Og0vWIiQFQoT"
      },
      "execution_count": null,
      "outputs": []
    },
    {
      "cell_type": "code",
      "source": [
        "re.sub('\\n',' ',text)"
      ],
      "metadata": {
        "id": "FFVdl2N1FVqL"
      },
      "execution_count": null,
      "outputs": []
    },
    {
      "cell_type": "code",
      "source": [
        "def extract_space(x):\n",
        "  x = re.sub('\\n',' ',x)\n",
        "  return x "
      ],
      "metadata": {
        "id": "YRwcYXRjFtv6"
      },
      "execution_count": null,
      "outputs": []
    },
    {
      "cell_type": "code",
      "source": [
        "df.job_description= df.job_description.apply(extract_space)\n",
        "df.job_description"
      ],
      "metadata": {
        "id": "u7Wuy322GMDR"
      },
      "execution_count": null,
      "outputs": []
    },
    {
      "cell_type": "code",
      "source": [
        "df.job_description[0].split()"
      ],
      "metadata": {
        "id": "uzP6wpDrGR3U"
      },
      "execution_count": null,
      "outputs": []
    },
    {
      "cell_type": "code",
      "source": [
        "def extract_skills(x):\n",
        "  extracted_skill_list = list()\n",
        "  word_text_list = x.split()\n",
        "  for word in word_text_list:  \n",
        "    if word in skill_list:\n",
        "      extracted_skill_list.append(word)\n",
        "  \n",
        "  return extracted_skill_list\n",
        "     "
      ],
      "metadata": {
        "id": "n-o_LEvVHwBx"
      },
      "execution_count": null,
      "outputs": []
    },
    {
      "cell_type": "code",
      "source": [
        "df.job_description.apply(lambda x :x.split())"
      ],
      "metadata": {
        "id": "aRQsWwSTJP2N"
      },
      "execution_count": null,
      "outputs": []
    },
    {
      "cell_type": "code",
      "source": [
        "# df.job_description.apply(extract_skills).loc[597]"
      ],
      "metadata": {
        "id": "25CEC0XQJZfR"
      },
      "execution_count": null,
      "outputs": []
    },
    {
      "cell_type": "code",
      "source": [
        "df['skills'] = df.job_description.apply(extract_skills)\n"
      ],
      "metadata": {
        "colab": {
          "base_uri": "https://localhost:8080/"
        },
        "id": "sKQrr8dEGf_j",
        "outputId": "a9b23efc-32ed-41d6-f0a1-134c22316b14"
      },
      "execution_count": 43,
      "outputs": [
        {
          "output_type": "stream",
          "name": "stderr",
          "text": [
            "/usr/local/lib/python3.7/dist-packages/ipykernel_launcher.py:1: SettingWithCopyWarning: \n",
            "A value is trying to be set on a copy of a slice from a DataFrame.\n",
            "Try using .loc[row_indexer,col_indexer] = value instead\n",
            "\n",
            "See the caveats in the documentation: https://pandas.pydata.org/pandas-docs/stable/user_guide/indexing.html#returning-a-view-versus-a-copy\n",
            "  \"\"\"Entry point for launching an IPython kernel.\n"
          ]
        }
      ]
    },
    {
      "cell_type": "code",
      "source": [
        "df.skills.sample(50)"
      ],
      "metadata": {
        "colab": {
          "base_uri": "https://localhost:8080/"
        },
        "id": "Q6UWrEp6KXe7",
        "outputId": "227c7b22-1144-43bf-99ed-594435fd5bb1"
      },
      "execution_count": 44,
      "outputs": [
        {
          "output_type": "execute_result",
          "data": {
            "text/plain": [
              "154              [Google]\n",
              "291                    []\n",
              "158              [Google]\n",
              "222                    []\n",
              "591                    []\n",
              "102                    []\n",
              "496                    []\n",
              "595                    []\n",
              "308                    []\n",
              "314                    []\n",
              "82                     []\n",
              "263                    []\n",
              "360                    []\n",
              "289                    []\n",
              "273                    []\n",
              "540             [Science]\n",
              "78                     []\n",
              "490                    []\n",
              "288                    []\n",
              "349                    []\n",
              "319                    []\n",
              "472                    []\n",
              "200                    []\n",
              "138                    []\n",
              "233                    []\n",
              "292                    []\n",
              "189               [Route]\n",
              "386                    []\n",
              "582    [Tableau, Tableau]\n",
              "176                    []\n",
              "69                     []\n",
              "10                     []\n",
              "461                    []\n",
              "377                    []\n",
              "382                    []\n",
              "21                     []\n",
              "66                 [Zoom]\n",
              "241                    []\n",
              "447             [Science]\n",
              "272                    []\n",
              "106                    []\n",
              "478                    []\n",
              "92                     []\n",
              "442                    []\n",
              "598                    []\n",
              "137                    []\n",
              "569                    []\n",
              "303                    []\n",
              "477                    []\n",
              "7                      []\n",
              "Name: skills, dtype: object"
            ]
          },
          "metadata": {},
          "execution_count": 44
        }
      ]
    },
    {
      "cell_type": "code",
      "source": [
        "df.skills.loc[198]"
      ],
      "metadata": {
        "colab": {
          "base_uri": "https://localhost:8080/"
        },
        "id": "CJQn54RjHWCr",
        "outputId": "ee21280e-0a03-4a19-b035-d7009ad01fa7"
      },
      "execution_count": 45,
      "outputs": [
        {
          "output_type": "execute_result",
          "data": {
            "text/plain": [
              "['Science']"
            ]
          },
          "metadata": {},
          "execution_count": 45
        }
      ]
    },
    {
      "cell_type": "code",
      "source": [
        "df.to_csv('skills_scraped_data.csv')"
      ],
      "metadata": {
        "id": "0ABVSBChKumM"
      },
      "execution_count": 47,
      "outputs": []
    },
    {
      "cell_type": "code",
      "source": [
        ""
      ],
      "metadata": {
        "id": "3NVjxfq_LDhM"
      },
      "execution_count": null,
      "outputs": []
    }
  ]
}